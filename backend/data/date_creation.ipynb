{
 "cells": [
  {
   "cell_type": "code",
   "execution_count": 1,
   "metadata": {},
   "outputs": [],
   "source": [
    "from faker import Faker\n",
    "fake = Faker(['zh_TW'])\n",
    "Faker.seed(7777)"
   ]
  },
  {
   "cell_type": "code",
   "execution_count": 2,
   "metadata": {},
   "outputs": [
    {
     "name": "stdout",
     "output_type": "stream",
     "text": [
      "何雅玲\n",
      "王郁雯\n",
      "胡鈺婷\n",
      "呂懿\n",
      "熊家豪\n"
     ]
    }
   ],
   "source": [
    "for _ in range(5):\n",
    "    print(fake.name())"
   ]
  },
  {
   "cell_type": "code",
   "execution_count": 3,
   "metadata": {},
   "outputs": [],
   "source": [
    "import random\n",
    "from random import randint, choices\n",
    "import pandas as pd\n",
    "\n",
    "random.seed(7777)"
   ]
  },
  {
   "cell_type": "code",
   "execution_count": 4,
   "metadata": {},
   "outputs": [
    {
     "data": {
      "text/plain": [
       "[(0, '靳瑋婷'), (1, '劉佳玲'), (2, '王冠廷'), (3, '奚淑貞'), (4, '孟淑娟')]"
      ]
     },
     "execution_count": 4,
     "metadata": {},
     "output_type": "execute_result"
    }
   ],
   "source": [
    "id_dict = {}\n",
    "for i in range(1000):\n",
    "    id_dict[i] = fake.name()\n",
    "\n",
    "list(id_dict.items())[:5]"
   ]
  },
  {
   "cell_type": "code",
   "execution_count": 5,
   "metadata": {},
   "outputs": [],
   "source": [
    "def save(dataframe, filename):\n",
    "    dataframe.to_csv(filename, index=False, encoding='utf-8')"
   ]
  },
  {
   "cell_type": "code",
   "execution_count": 6,
   "metadata": {},
   "outputs": [
    {
     "data": {
      "text/html": [
       "<div>\n",
       "<style scoped>\n",
       "    .dataframe tbody tr th:only-of-type {\n",
       "        vertical-align: middle;\n",
       "    }\n",
       "\n",
       "    .dataframe tbody tr th {\n",
       "        vertical-align: top;\n",
       "    }\n",
       "\n",
       "    .dataframe thead th {\n",
       "        text-align: right;\n",
       "    }\n",
       "</style>\n",
       "<table border=\"1\" class=\"dataframe\">\n",
       "  <thead>\n",
       "    <tr style=\"text-align: right;\">\n",
       "      <th></th>\n",
       "      <th>store_name</th>\n",
       "      <th>手沖</th>\n",
       "      <th>義式</th>\n",
       "      <th>有貓</th>\n",
       "      <th>酒吧</th>\n",
       "      <th>飲料</th>\n",
       "      <th>咖啡</th>\n",
       "    </tr>\n",
       "  </thead>\n",
       "  <tbody>\n",
       "    <tr>\n",
       "      <th>0</th>\n",
       "      <td>甜在心咖啡館</td>\n",
       "      <td>1</td>\n",
       "      <td>1</td>\n",
       "      <td>0</td>\n",
       "      <td>0</td>\n",
       "      <td>0</td>\n",
       "      <td>1</td>\n",
       "    </tr>\n",
       "    <tr>\n",
       "      <th>1</th>\n",
       "      <td>曉咖啡</td>\n",
       "      <td>1</td>\n",
       "      <td>1</td>\n",
       "      <td>1</td>\n",
       "      <td>0</td>\n",
       "      <td>0</td>\n",
       "      <td>1</td>\n",
       "    </tr>\n",
       "    <tr>\n",
       "      <th>2</th>\n",
       "      <td>Dr.Bean</td>\n",
       "      <td>1</td>\n",
       "      <td>1</td>\n",
       "      <td>0</td>\n",
       "      <td>0</td>\n",
       "      <td>0</td>\n",
       "      <td>1</td>\n",
       "    </tr>\n",
       "    <tr>\n",
       "      <th>3</th>\n",
       "      <td>咖啡平方 東安店</td>\n",
       "      <td>0</td>\n",
       "      <td>1</td>\n",
       "      <td>0</td>\n",
       "      <td>0</td>\n",
       "      <td>0</td>\n",
       "      <td>1</td>\n",
       "    </tr>\n",
       "    <tr>\n",
       "      <th>4</th>\n",
       "      <td>1/2P Café 陶甕烘焙咖啡</td>\n",
       "      <td>1</td>\n",
       "      <td>0</td>\n",
       "      <td>0</td>\n",
       "      <td>0</td>\n",
       "      <td>0</td>\n",
       "      <td>1</td>\n",
       "    </tr>\n",
       "  </tbody>\n",
       "</table>\n",
       "</div>"
      ],
      "text/plain": [
       "         store_name  手沖  義式  有貓  酒吧  飲料  咖啡\n",
       "0            甜在心咖啡館   1   1   0   0   0   1\n",
       "1               曉咖啡   1   1   1   0   0   1\n",
       "2           Dr.Bean   1   1   0   0   0   1\n",
       "3          咖啡平方 東安店   0   1   0   0   0   1\n",
       "4  1/2P Café 陶甕烘焙咖啡   1   0   0   0   0   1"
      ]
     },
     "execution_count": 6,
     "metadata": {},
     "output_type": "execute_result"
    }
   ],
   "source": [
    "stores = pd.read_csv('./raw.csv')\n",
    "stores.head()"
   ]
  },
  {
   "cell_type": "code",
   "execution_count": 7,
   "metadata": {},
   "outputs": [
    {
     "data": {
      "text/plain": [
       "['甜在心咖啡館', '曉咖啡', 'Dr.Bean', '咖啡平方 東安店', '1/2P Café 陶甕烘焙咖啡']"
      ]
     },
     "execution_count": 7,
     "metadata": {},
     "output_type": "execute_result"
    }
   ],
   "source": [
    "cafe = list(stores[stores['咖啡'] == 1]['store_name'].values)\n",
    "cafe[:5]"
   ]
  },
  {
   "cell_type": "code",
   "execution_count": 8,
   "metadata": {},
   "outputs": [
    {
     "data": {
      "text/plain": [
       "['在島之後After Island. 餐酒館',\n",
       " '鯤島 Khuntor',\n",
       " 'Bar TCRC 前科累累俱樂部',\n",
       " 'Bären Biergelden 貝倫啤酒館',\n",
       " '朝茶暮酒 Bar - MinLife Store']"
      ]
     },
     "execution_count": 8,
     "metadata": {},
     "output_type": "execute_result"
    }
   ],
   "source": [
    "bar = list(stores[stores['酒吧'] == 1]['store_name'].values)\n",
    "bar[:5]"
   ]
  },
  {
   "cell_type": "code",
   "execution_count": 9,
   "metadata": {},
   "outputs": [
    {
     "data": {
      "text/plain": [
       "['双生綠豆沙牛奶', '甜又鮮飲料', 'Silver Coin 銀兩', '木子樑室', '黃氏波霸奶茶專賣店']"
      ]
     },
     "execution_count": 9,
     "metadata": {},
     "output_type": "execute_result"
    }
   ],
   "source": [
    "drinks = list(stores[stores['飲料'] == 1]['store_name'].values)\n",
    "drinks[:5]"
   ]
  },
  {
   "cell_type": "code",
   "execution_count": 10,
   "metadata": {},
   "outputs": [],
   "source": [
    "def choose_store(type):\n",
    "    prefix = fake.company_prefix()\n",
    "    if type == 0:\n",
    "        return prefix + choices(cafe)[0]\n",
    "    elif type == 1:\n",
    "        return prefix + choices(bar)[0]\n",
    "    else:\n",
    "        return prefix + choices(drinks)[0]\n",
    "\n",
    "def create_stores(num):\n",
    "\n",
    "    data = pd.DataFrame()\n",
    "    for i in range(num):\n",
    "        data.loc[i, 'store_id'] = i\n",
    "        data.loc[i, 'type'] = randint(0, 2)\n",
    "        data.loc[i, 'name'] = choose_store(data.loc[i, 'type'])\n",
    "\n",
    "        data[list(['store_id'])] = data[list(['store_id'])].astype(int).astype(bytes)\n",
    "        data[list(['type'])] = data[list(['type'])].astype(int)\n",
    "\n",
    "    return data\n",
    "\n",
    "stores = create_stores(10000)\n",
    "stores = stores.sort_values(by=['store_id'])\n",
    "save(stores, './stores.csv')"
   ]
  },
  {
   "cell_type": "code",
   "execution_count": 11,
   "metadata": {},
   "outputs": [
    {
     "data": {
      "text/html": [
       "<div>\n",
       "<style scoped>\n",
       "    .dataframe tbody tr th:only-of-type {\n",
       "        vertical-align: middle;\n",
       "    }\n",
       "\n",
       "    .dataframe tbody tr th {\n",
       "        vertical-align: top;\n",
       "    }\n",
       "\n",
       "    .dataframe thead th {\n",
       "        text-align: right;\n",
       "    }\n",
       "</style>\n",
       "<table border=\"1\" class=\"dataframe\">\n",
       "  <thead>\n",
       "    <tr style=\"text-align: right;\">\n",
       "      <th></th>\n",
       "      <th>store_id</th>\n",
       "      <th>type</th>\n",
       "      <th>name</th>\n",
       "    </tr>\n",
       "  </thead>\n",
       "  <tbody>\n",
       "    <tr>\n",
       "      <th>0</th>\n",
       "      <td>b'0'</td>\n",
       "      <td>0</td>\n",
       "      <td>國中鋼鐵猫毛珈琲（原猫門）</td>\n",
       "    </tr>\n",
       "    <tr>\n",
       "      <th>1</th>\n",
       "      <td>b'1'</td>\n",
       "      <td>1</td>\n",
       "      <td>天中電視Bären Biergelden 貝倫啤酒館</td>\n",
       "    </tr>\n",
       "    <tr>\n",
       "      <th>10</th>\n",
       "      <td>b'10'</td>\n",
       "      <td>2</td>\n",
       "      <td>豐兆國際商業銀行Silver Coin 銀兩</td>\n",
       "    </tr>\n",
       "    <tr>\n",
       "      <th>100</th>\n",
       "      <td>b'100'</td>\n",
       "      <td>1</td>\n",
       "      <td>達廣電腦籠裏 Bar Lonely</td>\n",
       "    </tr>\n",
       "    <tr>\n",
       "      <th>1000</th>\n",
       "      <td>b'1000'</td>\n",
       "      <td>2</td>\n",
       "      <td>明陽海運老賴茶棧台南文賢店</td>\n",
       "    </tr>\n",
       "  </tbody>\n",
       "</table>\n",
       "</div>"
      ],
      "text/plain": [
       "     store_id  type                        name\n",
       "0        b'0'     0               國中鋼鐵猫毛珈琲（原猫門）\n",
       "1        b'1'     1  天中電視Bären Biergelden 貝倫啤酒館\n",
       "10      b'10'     2      豐兆國際商業銀行Silver Coin 銀兩\n",
       "100    b'100'     1           達廣電腦籠裏 Bar Lonely\n",
       "1000  b'1000'     2               明陽海運老賴茶棧台南文賢店"
      ]
     },
     "execution_count": 11,
     "metadata": {},
     "output_type": "execute_result"
    }
   ],
   "source": [
    "stores.head()"
   ]
  },
  {
   "cell_type": "code",
   "execution_count": 12,
   "metadata": {},
   "outputs": [],
   "source": [
    "def create_ratings(num):\n",
    "\n",
    "    data = pd.DataFrame()\n",
    "    for i in range(num):\n",
    "        data.loc[i, 'id'] = randint(0, 999)\n",
    "        data.loc[i, 'name'] = id_dict[data.loc[i, 'id']]\n",
    "        data.loc[i, 'store_id'] = randint(0, 9999)\n",
    "        data.loc[i, 'store_name'] = stores[stores['store_id'].astype(int) == data.loc[i, 'store_id']]['name'].values[0]\n",
    "        data.loc[i, 'rating'] = randint(1, 5)\n",
    "\n",
    "        data[list(['id', 'store_id'])] = data[list(['id', 'store_id'])].astype(bytes)\n",
    "        data[list(['rating'])] = data[list(['rating'])].astype(int)\n",
    "\n",
    "    return data\n",
    "\n",
    "users = create_ratings(10000)\n",
    "users = users.sort_values(by=['id', 'store_id'])\n",
    "save(users, './users.csv')"
   ]
  },
  {
   "cell_type": "code",
   "execution_count": 13,
   "metadata": {},
   "outputs": [
    {
     "data": {
      "text/html": [
       "<div>\n",
       "<style scoped>\n",
       "    .dataframe tbody tr th:only-of-type {\n",
       "        vertical-align: middle;\n",
       "    }\n",
       "\n",
       "    .dataframe tbody tr th {\n",
       "        vertical-align: top;\n",
       "    }\n",
       "\n",
       "    .dataframe thead th {\n",
       "        text-align: right;\n",
       "    }\n",
       "</style>\n",
       "<table border=\"1\" class=\"dataframe\">\n",
       "  <thead>\n",
       "    <tr style=\"text-align: right;\">\n",
       "      <th></th>\n",
       "      <th>id</th>\n",
       "      <th>name</th>\n",
       "      <th>store_id</th>\n",
       "      <th>store_name</th>\n",
       "      <th>rating</th>\n",
       "    </tr>\n",
       "  </thead>\n",
       "  <tbody>\n",
       "    <tr>\n",
       "      <th>4521</th>\n",
       "      <td>b'0'</td>\n",
       "      <td>靳瑋婷</td>\n",
       "      <td>b'3454'</td>\n",
       "      <td>塑台石化The Sober Foodie 食上主義餐酒館</td>\n",
       "      <td>5</td>\n",
       "    </tr>\n",
       "    <tr>\n",
       "      <th>5201</th>\n",
       "      <td>b'0'</td>\n",
       "      <td>靳瑋婷</td>\n",
       "      <td>b'4205'</td>\n",
       "      <td>華中郵政巷隅咖啡</td>\n",
       "      <td>2</td>\n",
       "    </tr>\n",
       "    <tr>\n",
       "      <th>7729</th>\n",
       "      <td>b'0'</td>\n",
       "      <td>靳瑋婷</td>\n",
       "      <td>b'6433'</td>\n",
       "      <td>達宏國際電子啤酒超市</td>\n",
       "      <td>4</td>\n",
       "    </tr>\n",
       "    <tr>\n",
       "      <th>7577</th>\n",
       "      <td>b'0'</td>\n",
       "      <td>靳瑋婷</td>\n",
       "      <td>b'6497'</td>\n",
       "      <td>豐兆國際商業銀行東楓咖啡茶飲</td>\n",
       "      <td>3</td>\n",
       "    </tr>\n",
       "    <tr>\n",
       "      <th>5852</th>\n",
       "      <td>b'0'</td>\n",
       "      <td>靳瑋婷</td>\n",
       "      <td>b'6564'</td>\n",
       "      <td>天上雜誌波哥茶飲</td>\n",
       "      <td>4</td>\n",
       "    </tr>\n",
       "  </tbody>\n",
       "</table>\n",
       "</div>"
      ],
      "text/plain": [
       "        id name store_id                    store_name  rating\n",
       "4521  b'0'  靳瑋婷  b'3454'  塑台石化The Sober Foodie 食上主義餐酒館       5\n",
       "5201  b'0'  靳瑋婷  b'4205'                      華中郵政巷隅咖啡       2\n",
       "7729  b'0'  靳瑋婷  b'6433'                    達宏國際電子啤酒超市       4\n",
       "7577  b'0'  靳瑋婷  b'6497'                豐兆國際商業銀行東楓咖啡茶飲       3\n",
       "5852  b'0'  靳瑋婷  b'6564'                      天上雜誌波哥茶飲       4"
      ]
     },
     "execution_count": 13,
     "metadata": {},
     "output_type": "execute_result"
    }
   ],
   "source": [
    "users.head()"
   ]
  }
 ],
 "metadata": {
  "kernelspec": {
   "display_name": "app",
   "language": "python",
   "name": "python3"
  },
  "language_info": {
   "codemirror_mode": {
    "name": "ipython",
    "version": 3
   },
   "file_extension": ".py",
   "mimetype": "text/x-python",
   "name": "python",
   "nbconvert_exporter": "python",
   "pygments_lexer": "ipython3",
   "version": "3.10.11"
  },
  "orig_nbformat": 4
 },
 "nbformat": 4,
 "nbformat_minor": 2
}
