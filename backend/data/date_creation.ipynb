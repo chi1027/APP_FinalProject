{
 "cells": [
  {
   "cell_type": "code",
   "execution_count": 1,
   "metadata": {},
   "outputs": [],
   "source": [
    "from faker import Faker\n",
    "fake = Faker(['zh_TW'])\n",
    "Faker.seed(7777)"
   ]
  },
  {
   "cell_type": "code",
   "execution_count": 2,
   "metadata": {},
   "outputs": [
    {
     "name": "stdout",
     "output_type": "stream",
     "text": [
      "何雅玲\n",
      "王郁雯\n",
      "胡鈺婷\n",
      "呂懿\n",
      "熊家豪\n"
     ]
    }
   ],
   "source": [
    "for _ in range(5):\n",
    "    print(fake.name())"
   ]
  },
  {
   "cell_type": "code",
   "execution_count": 3,
   "metadata": {},
   "outputs": [],
   "source": [
    "import random\n",
    "from random import randint, choices\n",
    "import pandas as pd\n",
    "\n",
    "random.seed(7777)"
   ]
  },
  {
   "cell_type": "code",
   "execution_count": 4,
   "metadata": {},
   "outputs": [
    {
     "data": {
      "text/plain": [
       "[(0, '靳瑋婷'), (1, '劉佳玲'), (2, '王冠廷'), (3, '奚淑貞'), (4, '孟淑娟')]"
      ]
     },
     "execution_count": 4,
     "metadata": {},
     "output_type": "execute_result"
    }
   ],
   "source": [
    "id_dict = {}\n",
    "for i in range(1000):\n",
    "    id_dict[i] = fake.name()\n",
    "\n",
    "list(id_dict.items())[:5]"
   ]
  },
  {
   "cell_type": "code",
   "execution_count": 5,
   "metadata": {},
   "outputs": [],
   "source": [
    "def save(dataframe, filename):\n",
    "    dataframe.to_csv(filename, index=False, encoding='utf-8')"
   ]
  },
  {
   "cell_type": "code",
   "execution_count": 6,
   "metadata": {},
   "outputs": [
    {
     "data": {
      "text/html": [
       "<div>\n",
       "<style scoped>\n",
       "    .dataframe tbody tr th:only-of-type {\n",
       "        vertical-align: middle;\n",
       "    }\n",
       "\n",
       "    .dataframe tbody tr th {\n",
       "        vertical-align: top;\n",
       "    }\n",
       "\n",
       "    .dataframe thead th {\n",
       "        text-align: right;\n",
       "    }\n",
       "</style>\n",
       "<table border=\"1\" class=\"dataframe\">\n",
       "  <thead>\n",
       "    <tr style=\"text-align: right;\">\n",
       "      <th></th>\n",
       "      <th>store_name</th>\n",
       "      <th>手沖</th>\n",
       "      <th>義式</th>\n",
       "      <th>有貓</th>\n",
       "      <th>酒吧</th>\n",
       "      <th>飲料</th>\n",
       "      <th>咖啡</th>\n",
       "    </tr>\n",
       "  </thead>\n",
       "  <tbody>\n",
       "    <tr>\n",
       "      <th>0</th>\n",
       "      <td>甜在心咖啡館</td>\n",
       "      <td>1</td>\n",
       "      <td>1</td>\n",
       "      <td>0</td>\n",
       "      <td>0</td>\n",
       "      <td>0</td>\n",
       "      <td>1</td>\n",
       "    </tr>\n",
       "    <tr>\n",
       "      <th>1</th>\n",
       "      <td>曉咖啡</td>\n",
       "      <td>1</td>\n",
       "      <td>1</td>\n",
       "      <td>1</td>\n",
       "      <td>0</td>\n",
       "      <td>0</td>\n",
       "      <td>1</td>\n",
       "    </tr>\n",
       "    <tr>\n",
       "      <th>2</th>\n",
       "      <td>Dr.Bean</td>\n",
       "      <td>1</td>\n",
       "      <td>1</td>\n",
       "      <td>0</td>\n",
       "      <td>0</td>\n",
       "      <td>0</td>\n",
       "      <td>1</td>\n",
       "    </tr>\n",
       "    <tr>\n",
       "      <th>3</th>\n",
       "      <td>咖啡平方 東安店</td>\n",
       "      <td>0</td>\n",
       "      <td>1</td>\n",
       "      <td>0</td>\n",
       "      <td>0</td>\n",
       "      <td>0</td>\n",
       "      <td>1</td>\n",
       "    </tr>\n",
       "    <tr>\n",
       "      <th>4</th>\n",
       "      <td>1/2P Café 陶甕烘焙咖啡</td>\n",
       "      <td>1</td>\n",
       "      <td>0</td>\n",
       "      <td>0</td>\n",
       "      <td>0</td>\n",
       "      <td>0</td>\n",
       "      <td>1</td>\n",
       "    </tr>\n",
       "  </tbody>\n",
       "</table>\n",
       "</div>"
      ],
      "text/plain": [
       "         store_name  手沖  義式  有貓  酒吧  飲料  咖啡\n",
       "0            甜在心咖啡館   1   1   0   0   0   1\n",
       "1               曉咖啡   1   1   1   0   0   1\n",
       "2           Dr.Bean   1   1   0   0   0   1\n",
       "3          咖啡平方 東安店   0   1   0   0   0   1\n",
       "4  1/2P Café 陶甕烘焙咖啡   1   0   0   0   0   1"
      ]
     },
     "execution_count": 6,
     "metadata": {},
     "output_type": "execute_result"
    }
   ],
   "source": [
    "raw = pd.read_csv('./raw.csv')\n",
    "raw.head()"
   ]
  },
  {
   "cell_type": "code",
   "execution_count": 7,
   "metadata": {},
   "outputs": [
    {
     "data": {
      "text/plain": [
       "['甜在心咖啡館', '曉咖啡', 'Dr.Bean', '咖啡平方 東安店', '1/2P Café 陶甕烘焙咖啡']"
      ]
     },
     "execution_count": 7,
     "metadata": {},
     "output_type": "execute_result"
    }
   ],
   "source": [
    "cafe = list(raw[raw['咖啡'] == 1]['store_name'].values)\n",
    "cafe[:5]"
   ]
  },
  {
   "cell_type": "code",
   "execution_count": 8,
   "metadata": {},
   "outputs": [
    {
     "data": {
      "text/plain": [
       "['在島之後After Island. 餐酒館',\n",
       " '鯤島 Khuntor',\n",
       " 'Bar TCRC 前科累累俱樂部',\n",
       " 'Bären Biergelden 貝倫啤酒館',\n",
       " '朝茶暮酒 Bar - MinLife Store']"
      ]
     },
     "execution_count": 8,
     "metadata": {},
     "output_type": "execute_result"
    }
   ],
   "source": [
    "bar = list(raw[raw['酒吧'] == 1]['store_name'].values)\n",
    "bar[:5]"
   ]
  },
  {
   "cell_type": "code",
   "execution_count": 9,
   "metadata": {},
   "outputs": [
    {
     "data": {
      "text/plain": [
       "['双生綠豆沙牛奶', '甜又鮮飲料', 'Silver Coin 銀兩', '木子樑室', '黃氏波霸奶茶專賣店']"
      ]
     },
     "execution_count": 9,
     "metadata": {},
     "output_type": "execute_result"
    }
   ],
   "source": [
    "drinks = list(raw[raw['飲料'] == 1]['store_name'].values)\n",
    "drinks[:5]"
   ]
  },
  {
   "cell_type": "code",
   "execution_count": 10,
   "metadata": {},
   "outputs": [],
   "source": [
    "def choose_store(type):\n",
    "    prefix = fake.company_prefix()\n",
    "    if type == 0:\n",
    "        return f'{prefix}_{choices(cafe)[0]}'\n",
    "    elif type == 1:\n",
    "        return f'{prefix}_{choices(bar)[0]}'\n",
    "    else:\n",
    "        return f'{prefix}_{choices(drinks)[0]}'\n",
    "\n",
    "def create_stores(num):\n",
    "\n",
    "    data = pd.DataFrame()\n",
    "    for i in range(num):\n",
    "        data.loc[i, 'store_id'] = i\n",
    "        data.loc[i, 'type'] = randint(0, 2)\n",
    "        data.loc[i, 'name'] = choose_store(data.loc[i, 'type'])\n",
    "\n",
    "        data[list(['store_id', 'type'])] = data[list(['store_id', 'type'])].astype(int)\n",
    "\n",
    "    return data\n",
    "\n",
    "stores = create_stores(100)\n",
    "stores = stores.sort_values(by=['store_id'])\n",
    "save(stores, './stores.csv')"
   ]
  },
  {
   "cell_type": "code",
   "execution_count": 11,
   "metadata": {},
   "outputs": [
    {
     "data": {
      "text/html": [
       "<div>\n",
       "<style scoped>\n",
       "    .dataframe tbody tr th:only-of-type {\n",
       "        vertical-align: middle;\n",
       "    }\n",
       "\n",
       "    .dataframe tbody tr th {\n",
       "        vertical-align: top;\n",
       "    }\n",
       "\n",
       "    .dataframe thead th {\n",
       "        text-align: right;\n",
       "    }\n",
       "</style>\n",
       "<table border=\"1\" class=\"dataframe\">\n",
       "  <thead>\n",
       "    <tr style=\"text-align: right;\">\n",
       "      <th></th>\n",
       "      <th>store_id</th>\n",
       "      <th>type</th>\n",
       "      <th>name</th>\n",
       "    </tr>\n",
       "  </thead>\n",
       "  <tbody>\n",
       "    <tr>\n",
       "      <th>0</th>\n",
       "      <td>0</td>\n",
       "      <td>0</td>\n",
       "      <td>國中鋼鐵_猫毛珈琲（原猫門）</td>\n",
       "    </tr>\n",
       "    <tr>\n",
       "      <th>1</th>\n",
       "      <td>1</td>\n",
       "      <td>1</td>\n",
       "      <td>天中電視_Bären Biergelden 貝倫啤酒館</td>\n",
       "    </tr>\n",
       "    <tr>\n",
       "      <th>2</th>\n",
       "      <td>2</td>\n",
       "      <td>1</td>\n",
       "      <td>發聯科技_Bären Biergelden 貝倫啤酒館</td>\n",
       "    </tr>\n",
       "    <tr>\n",
       "      <th>3</th>\n",
       "      <td>3</td>\n",
       "      <td>2</td>\n",
       "      <td>美奧廣告_鮮汁霸果汁</td>\n",
       "    </tr>\n",
       "    <tr>\n",
       "      <th>4</th>\n",
       "      <td>4</td>\n",
       "      <td>0</td>\n",
       "      <td>遠西百貨_猫毛珈琲（原猫門）</td>\n",
       "    </tr>\n",
       "  </tbody>\n",
       "</table>\n",
       "</div>"
      ],
      "text/plain": [
       "   store_id  type                         name\n",
       "0         0     0               國中鋼鐵_猫毛珈琲（原猫門）\n",
       "1         1     1  天中電視_Bären Biergelden 貝倫啤酒館\n",
       "2         2     1  發聯科技_Bären Biergelden 貝倫啤酒館\n",
       "3         3     2                   美奧廣告_鮮汁霸果汁\n",
       "4         4     0               遠西百貨_猫毛珈琲（原猫門）"
      ]
     },
     "execution_count": 11,
     "metadata": {},
     "output_type": "execute_result"
    }
   ],
   "source": [
    "stores.head()"
   ]
  },
  {
   "cell_type": "code",
   "execution_count": 12,
   "metadata": {},
   "outputs": [],
   "source": [
    "def search_store_from_raw(store_name):\n",
    "    store_name = store_name.split('_')[1]\n",
    "    return raw[raw['store_name'].str.contains(store_name)]"
   ]
  },
  {
   "cell_type": "code",
   "execution_count": 13,
   "metadata": {},
   "outputs": [],
   "source": [
    "def rating_algo(user_id, store_name):\n",
    "\n",
    "    store_info = search_store_from_raw(store_name)\n",
    "    \n",
    "    # user_preference\n",
    "    is_catcon = randint(0, 1)\n",
    "    cafe_pref = choices([0, 1], weights=[0.2, 0.8])[0]\n",
    "    bar_pref = choices([0, 1], weights=[0.4, 0.6])[0]\n",
    "    drinks_pref = choices([0, 1], weights=[0.3, 0.7])[0]\n",
    "\n",
    "    try:\n",
    "        if is_catcon and store_info['有貓'].values[0]:\n",
    "            return 5\n",
    "        elif cafe_pref and store_info['咖啡'].values[0]:\n",
    "            if store_info['手沖'].values[0]:\n",
    "                return randint(4, 5)\n",
    "            elif store_info['義式'].values[0]:\n",
    "                return randint(4, 5)\n",
    "            else:\n",
    "                return randint(3, 5)\n",
    "        elif bar_pref and store_info['酒吧'].values[0]:\n",
    "            return randint(3, 5)\n",
    "        elif drinks_pref and store_info['飲料'].values[0]:\n",
    "            return randint(3, 5)\n",
    "        elif cafe_pref and bar_pref and drinks_pref:\n",
    "            return randint(2, 4)\n",
    "        elif not cafe_pref and not bar_pref and not drinks_pref:\n",
    "            return randint(1, 3)\n",
    "        else:\n",
    "            return randint(1, 4)\n",
    "    except IndexError:\n",
    "        print(store_name)"
   ]
  },
  {
   "cell_type": "code",
   "execution_count": 14,
   "metadata": {},
   "outputs": [],
   "source": [
    "def create_ratings(num):\n",
    "\n",
    "    data = pd.DataFrame()\n",
    "    for i in range(num):\n",
    "        data.loc[i, 'id'] = randint(0, 999)\n",
    "        data.loc[i, 'name'] = id_dict[data.loc[i, 'id']]\n",
    "        data.loc[i, 'store_id'] = randint(0, 99)\n",
    "        data.loc[i, 'store_name'] = stores[stores['store_id'] == data.loc[i, 'store_id']]['name'].values[0]\n",
    "        data.loc[i, 'rating'] = rating_algo(data.loc[i, 'id'], data.loc[i, 'store_name'])\n",
    "\n",
    "        data[list(['id', 'store_id', 'rating'])] = data[list(['id', 'store_id', 'rating'])].astype(int)\n",
    "\n",
    "    return data\n",
    "\n",
    "users = create_ratings(10000)\n",
    "users = users.sort_values(by=['id', 'store_id'])\n",
    "save(users, './users.csv')"
   ]
  },
  {
   "cell_type": "code",
   "execution_count": 15,
   "metadata": {},
   "outputs": [
    {
     "data": {
      "text/html": [
       "<div>\n",
       "<style scoped>\n",
       "    .dataframe tbody tr th:only-of-type {\n",
       "        vertical-align: middle;\n",
       "    }\n",
       "\n",
       "    .dataframe tbody tr th {\n",
       "        vertical-align: top;\n",
       "    }\n",
       "\n",
       "    .dataframe thead th {\n",
       "        text-align: right;\n",
       "    }\n",
       "</style>\n",
       "<table border=\"1\" class=\"dataframe\">\n",
       "  <thead>\n",
       "    <tr style=\"text-align: right;\">\n",
       "      <th></th>\n",
       "      <th>id</th>\n",
       "      <th>name</th>\n",
       "      <th>store_id</th>\n",
       "      <th>store_name</th>\n",
       "      <th>rating</th>\n",
       "    </tr>\n",
       "  </thead>\n",
       "  <tbody>\n",
       "    <tr>\n",
       "      <th>8105</th>\n",
       "      <td>0</td>\n",
       "      <td>靳瑋婷</td>\n",
       "      <td>32</td>\n",
       "      <td>鐵台_镹 coffee • dessert</td>\n",
       "      <td>5</td>\n",
       "    </tr>\n",
       "    <tr>\n",
       "      <th>3569</th>\n",
       "      <td>0</td>\n",
       "      <td>靳瑋婷</td>\n",
       "      <td>72</td>\n",
       "      <td>丹味企業_籠裏 Bar Lonely</td>\n",
       "      <td>4</td>\n",
       "    </tr>\n",
       "    <tr>\n",
       "      <th>4540</th>\n",
       "      <td>0</td>\n",
       "      <td>靳瑋婷</td>\n",
       "      <td>78</td>\n",
       "      <td>瑞輝大藥廠_籠裏 Bar Lonely</td>\n",
       "      <td>4</td>\n",
       "    </tr>\n",
       "    <tr>\n",
       "      <th>9632</th>\n",
       "      <td>0</td>\n",
       "      <td>靳瑋婷</td>\n",
       "      <td>79</td>\n",
       "      <td>家宜家居（KIEA）_啤酒超市</td>\n",
       "      <td>4</td>\n",
       "    </tr>\n",
       "    <tr>\n",
       "      <th>9095</th>\n",
       "      <td>1</td>\n",
       "      <td>劉佳玲</td>\n",
       "      <td>1</td>\n",
       "      <td>天中電視_Bären Biergelden 貝倫啤酒館</td>\n",
       "      <td>4</td>\n",
       "    </tr>\n",
       "  </tbody>\n",
       "</table>\n",
       "</div>"
      ],
      "text/plain": [
       "      id name  store_id                   store_name  rating\n",
       "8105   0  靳瑋婷        32        鐵台_镹 coffee • dessert       5\n",
       "3569   0  靳瑋婷        72           丹味企業_籠裏 Bar Lonely       4\n",
       "4540   0  靳瑋婷        78          瑞輝大藥廠_籠裏 Bar Lonely       4\n",
       "9632   0  靳瑋婷        79              家宜家居（KIEA）_啤酒超市       4\n",
       "9095   1  劉佳玲         1  天中電視_Bären Biergelden 貝倫啤酒館       4"
      ]
     },
     "execution_count": 15,
     "metadata": {},
     "output_type": "execute_result"
    }
   ],
   "source": [
    "users.head()"
   ]
  }
 ],
 "metadata": {
  "kernelspec": {
   "display_name": "app",
   "language": "python",
   "name": "python3"
  },
  "language_info": {
   "codemirror_mode": {
    "name": "ipython",
    "version": 3
   },
   "file_extension": ".py",
   "mimetype": "text/x-python",
   "name": "python",
   "nbconvert_exporter": "python",
   "pygments_lexer": "ipython3",
   "version": "3.10.11"
  },
  "orig_nbformat": 4
 },
 "nbformat": 4,
 "nbformat_minor": 2
}
