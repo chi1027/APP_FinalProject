{
  "cells": [
    {
      "attachments": {},
      "cell_type": "markdown",
      "metadata": {
        "id": "X80i_girFR2o"
      },
      "source": [
        "##### Copyright 2022 The TensorFlow Authors."
      ]
    },
    {
      "cell_type": "code",
      "execution_count": 1,
      "metadata": {
        "cellView": "form",
        "id": "bB8gHCR3FVC0"
      },
      "outputs": [],
      "source": [
        "#@title Licensed under the Apache License, Version 2.0 (the \"License\");\n",
        "# you may not use this file except in compliance with the License.\n",
        "# You may obtain a copy of the License at\n",
        "#\n",
        "# https://www.apache.org/licenses/LICENSE-2.0\n",
        "#\n",
        "# Unless required by applicable law or agreed to in writing, software\n",
        "# distributed under the License is distributed on an \"AS IS\" BASIS,\n",
        "# WITHOUT WARRANTIES OR CONDITIONS OF ANY KIND, either express or implied.\n",
        "# See the License for the specific language governing permissions and\n",
        "# limitations under the License."
      ]
    },
    {
      "attachments": {},
      "cell_type": "markdown",
      "metadata": {
        "id": "kCeYA79m1DEX"
      },
      "source": [
        "# Recommending movies: ranking\n",
        "\n",
        "This tutorial is a slightly adapted version of the [basic ranking tutorial](https://www.tensorflow.org/recommenders/examples/basic_ranking) from TensorFlow Recommenders documentation."
      ]
    },
    {
      "attachments": {},
      "cell_type": "markdown",
      "metadata": {
        "id": "gf2jMHkZQYB5"
      },
      "source": [
        "\n",
        "\n",
        "## Imports\n",
        "\n",
        "\n",
        "Let's first get our imports out of the way."
      ]
    },
    {
      "cell_type": "code",
      "execution_count": null,
      "metadata": {
        "id": "SZGYDaF-m5wZ"
      },
      "outputs": [],
      "source": [
        "import os\n",
        "import pprint\n",
        "import tempfile\n",
        "\n",
        "from typing import Dict, Text\n",
        "\n",
        "import numpy as np\n",
        "import pandas as pd\n",
        "import tensorflow as tf\n",
        "import tensorflow_datasets as tfds\n",
        "import tensorflow_recommenders as tfrs"
      ]
    },
    {
      "attachments": {},
      "cell_type": "markdown",
      "metadata": {
        "id": "5PAqjR4a1RR4"
      },
      "source": [
        "## Preparing the dataset\n",
        "\n",
        "We're continuing to use the MovieLens dataset. This time, we're also going to keep the ratings: these are the objectives we are trying to predict."
      ]
    },
    {
      "cell_type": "code",
      "execution_count": 3,
      "metadata": {
        "id": "aaQhqcLGP0jL"
      },
      "outputs": [],
      "source": [
        "df = pd.read_csv(\"../data/users.csv\", sep=\",\", encoding='utf-8')\n",
        "df.id = df.id.astype(str)\n",
        "ratings = tf.data.Dataset.from_tensor_slices(dict(df))\n",
        "\n",
        "ratings = ratings.map(lambda x: {\n",
        "    \"store\": x[\"store_name\"],\n",
        "    \"user_id\": x[\"id\"],\n",
        "    \"user_rating\": x[\"rating\"]\n",
        "})"
      ]
    },
    {
      "attachments": {},
      "cell_type": "markdown",
      "metadata": {
        "id": "Iu4XSa_G1nyN"
      },
      "source": [
        "We'll split the data by putting 80% of the ratings in the train set, and 20% in the test set."
      ]
    },
    {
      "cell_type": "code",
      "execution_count": 4,
      "metadata": {
        "id": "rS0eDfkjnjJL"
      },
      "outputs": [],
      "source": [
        "tf.random.set_seed(42)\n",
        "shuffled = ratings.shuffle(10_000, seed=42, reshuffle_each_iteration=False)\n",
        "\n",
        "train = shuffled.take(8_000)\n",
        "test = shuffled.skip(8_000).take(2_000)"
      ]
    },
    {
      "attachments": {},
      "cell_type": "markdown",
      "metadata": {
        "id": "gVi1HJfR9D7H"
      },
      "source": [
        "Next we figure out unique user ids and movie titles present in the data so that we can create the embedding user and movie embedding tables."
      ]
    },
    {
      "cell_type": "code",
      "execution_count": 5,
      "metadata": {
        "id": "MKROCiPo_5LJ"
      },
      "outputs": [],
      "source": [
        "movie_titles = ratings.batch(10_000).map(lambda x: x[\"store\"])\n",
        "user_ids = ratings.batch(10_000).map(lambda x: x[\"user_id\"])\n",
        "\n",
        "unique_movie_titles = np.unique(np.concatenate(list(movie_titles)))\n",
        "unique_user_ids = np.unique(np.concatenate(list(user_ids)))"
      ]
    },
    {
      "attachments": {},
      "cell_type": "markdown",
      "metadata": {
        "id": "4-Vj9nHb48pn"
      },
      "source": [
        "## Implementing a model"
      ]
    },
    {
      "attachments": {},
      "cell_type": "markdown",
      "metadata": {
        "id": "eCi-seR86qqa"
      },
      "source": [
        "### Architecture\n",
        "\n",
        "Ranking models do not face the same efficiency constraints as retrieval models do, and so we have a little bit more freedom in our choice of architectures. We can implement our ranking model as follows:"
      ]
    },
    {
      "cell_type": "code",
      "execution_count": 6,
      "metadata": {
        "id": "fAk0y0Yf1eGh"
      },
      "outputs": [],
      "source": [
        "class RankingModel(tf.keras.Model):\n",
        "\n",
        "  def __init__(self):\n",
        "    super().__init__()\n",
        "    embedding_dimension = 32\n",
        "\n",
        "    # Compute embeddings for users.\n",
        "    self.user_embeddings = tf.keras.Sequential([\n",
        "      tf.keras.layers.StringLookup(\n",
        "        vocabulary=unique_user_ids, mask_token=None),\n",
        "      tf.keras.layers.Embedding(len(unique_user_ids) + 1, embedding_dimension)\n",
        "    ])\n",
        "\n",
        "    # Compute embeddings for movies.\n",
        "    self.movie_embeddings = tf.keras.Sequential([\n",
        "      tf.keras.layers.StringLookup(\n",
        "        vocabulary=unique_movie_titles, mask_token=None),\n",
        "      tf.keras.layers.Embedding(len(unique_movie_titles) + 1, embedding_dimension)\n",
        "    ])\n",
        "\n",
        "    # Compute predictions.\n",
        "    self.ratings = tf.keras.Sequential([\n",
        "      # Learn multiple dense layers.\n",
        "      tf.keras.layers.Dense(256, activation=\"relu\"),\n",
        "      tf.keras.layers.Dense(64, activation=\"relu\"),\n",
        "      # Make rating predictions in the final layer.\n",
        "      tf.keras.layers.Dense(1)\n",
        "  ])\n",
        "    \n",
        "  def call(self, inputs):\n",
        "\n",
        "    user_id, movie_title = inputs\n",
        "\n",
        "    user_embedding = self.user_embeddings(user_id)\n",
        "    movie_embedding = self.movie_embeddings(movie_title)\n",
        "\n",
        "    return self.ratings(tf.concat([user_embedding, movie_embedding], axis=1))"
      ]
    },
    {
      "attachments": {},
      "cell_type": "markdown",
      "metadata": {
        "id": "nCaCqJsXSkCo"
      },
      "source": [
        "### Loss and metrics\n",
        "\n",
        "We'll make use of the `Ranking` task object: a convenience wrapper that bundles together the loss function and metric computation. \n",
        "\n",
        "We'll use it together with the `MeanSquaredError` Keras loss in order to predict the ratings."
      ]
    },
    {
      "cell_type": "code",
      "execution_count": 7,
      "metadata": {
        "id": "tJ61Iz2QTBw3"
      },
      "outputs": [],
      "source": [
        "task = tfrs.tasks.Ranking(\n",
        "  loss = tf.keras.losses.MeanSquaredError(),\n",
        "  metrics=[tf.keras.metrics.RootMeanSquaredError()]\n",
        ")"
      ]
    },
    {
      "attachments": {},
      "cell_type": "markdown",
      "metadata": {
        "id": "FZUFeSlWRHGx"
      },
      "source": [
        "### The full model\n",
        "\n",
        "We can now put it all together into a model."
      ]
    },
    {
      "cell_type": "code",
      "execution_count": 8,
      "metadata": {
        "id": "8n7c5CHFp0ow"
      },
      "outputs": [],
      "source": [
        "class MovielensModel(tfrs.models.Model):\n",
        "\n",
        "  def __init__(self):\n",
        "    super().__init__()\n",
        "    self.ranking_model: tf.keras.Model = RankingModel()\n",
        "    self.task: tf.keras.layers.Layer = tfrs.tasks.Ranking(\n",
        "      loss = tf.keras.losses.MeanSquaredError(),\n",
        "      metrics=[tf.keras.metrics.RootMeanSquaredError()]\n",
        "    )\n",
        "\n",
        "  def call(self, features: Dict[str, tf.Tensor]) -> tf.Tensor:\n",
        "    return self.ranking_model(\n",
        "        (features[\"user_id\"], features[\"store\"]))\n",
        "\n",
        "  def compute_loss(self, features: Dict[Text, tf.Tensor], training=False) -> tf.Tensor:\n",
        "    labels = features.pop(\"user_rating\")\n",
        "    \n",
        "    rating_predictions = self(features)\n",
        "\n",
        "    # The task computes the loss and the metrics.\n",
        "    return self.task(labels=labels, predictions=rating_predictions)"
      ]
    },
    {
      "attachments": {},
      "cell_type": "markdown",
      "metadata": {
        "id": "yDN_LJGlnRGo"
      },
      "source": [
        "## Fitting and evaluating\n",
        "\n",
        "After defining the model, we can use standard Keras fitting and evaluation routines to fit and evaluate the model.\n",
        "\n",
        "Let's first instantiate the model."
      ]
    },
    {
      "cell_type": "code",
      "execution_count": 9,
      "metadata": {
        "id": "aW63YaqP2wCf"
      },
      "outputs": [],
      "source": [
        "model = MovielensModel()\n",
        "model.compile(optimizer=tf.keras.optimizers.Adagrad(learning_rate=0.1))"
      ]
    },
    {
      "attachments": {},
      "cell_type": "markdown",
      "metadata": {
        "id": "Nma0vc2XdN5g"
      },
      "source": [
        "Then shuffle, batch, and cache the training and evaluation data."
      ]
    },
    {
      "cell_type": "code",
      "execution_count": 10,
      "metadata": {
        "id": "53QJwY1gUnfv"
      },
      "outputs": [],
      "source": [
        "cached_train = train.shuffle(10_000).batch(8192).cache()\n",
        "cached_test = test.batch(1024).cache()"
      ]
    },
    {
      "attachments": {},
      "cell_type": "markdown",
      "metadata": {
        "id": "u8mHTxKAdTJO"
      },
      "source": [
        "Then train the  model:"
      ]
    },
    {
      "cell_type": "code",
      "execution_count": 11,
      "metadata": {
        "id": "ZxPntlT8EFOZ"
      },
      "outputs": [
        {
          "name": "stdout",
          "output_type": "stream",
          "text": [
            "Epoch 1/50\n",
            "1/1 [==============================] - 1s 560ms/step - root_mean_squared_error: 3.9199 - loss: 15.3653 - regularization_loss: 0.0000e+00 - total_loss: 15.3653\n",
            "Epoch 2/50\n",
            "1/1 [==============================] - 0s 9ms/step - root_mean_squared_error: 2.9980 - loss: 8.9882 - regularization_loss: 0.0000e+00 - total_loss: 8.9882\n",
            "Epoch 3/50\n",
            "1/1 [==============================] - 0s 11ms/step - root_mean_squared_error: 1.5400 - loss: 2.3717 - regularization_loss: 0.0000e+00 - total_loss: 2.3717\n",
            "Epoch 4/50\n",
            "1/1 [==============================] - 0s 11ms/step - root_mean_squared_error: 2.6337 - loss: 6.9361 - regularization_loss: 0.0000e+00 - total_loss: 6.9361\n",
            "Epoch 5/50\n",
            "1/1 [==============================] - 0s 9ms/step - root_mean_squared_error: 1.1678 - loss: 1.3638 - regularization_loss: 0.0000e+00 - total_loss: 1.3638\n",
            "Epoch 6/50\n",
            "1/1 [==============================] - 0s 12ms/step - root_mean_squared_error: 1.1676 - loss: 1.3632 - regularization_loss: 0.0000e+00 - total_loss: 1.3632\n",
            "Epoch 7/50\n",
            "1/1 [==============================] - 0s 12ms/step - root_mean_squared_error: 1.1690 - loss: 1.3666 - regularization_loss: 0.0000e+00 - total_loss: 1.3666\n",
            "Epoch 8/50\n",
            "1/1 [==============================] - 0s 10ms/step - root_mean_squared_error: 1.1762 - loss: 1.3834 - regularization_loss: 0.0000e+00 - total_loss: 1.3834\n",
            "Epoch 9/50\n",
            "1/1 [==============================] - 0s 11ms/step - root_mean_squared_error: 1.2064 - loss: 1.4555 - regularization_loss: 0.0000e+00 - total_loss: 1.4555\n",
            "Epoch 10/50\n",
            "1/1 [==============================] - 0s 11ms/step - root_mean_squared_error: 1.2891 - loss: 1.6619 - regularization_loss: 0.0000e+00 - total_loss: 1.6619\n",
            "Epoch 11/50\n",
            "1/1 [==============================] - 0s 11ms/step - root_mean_squared_error: 1.5713 - loss: 2.4689 - regularization_loss: 0.0000e+00 - total_loss: 2.4689\n",
            "Epoch 12/50\n",
            "1/1 [==============================] - 0s 12ms/step - root_mean_squared_error: 1.5618 - loss: 2.4391 - regularization_loss: 0.0000e+00 - total_loss: 2.4391\n",
            "Epoch 13/50\n",
            "1/1 [==============================] - 0s 12ms/step - root_mean_squared_error: 2.0079 - loss: 4.0318 - regularization_loss: 0.0000e+00 - total_loss: 4.0318\n",
            "Epoch 14/50\n",
            "1/1 [==============================] - 0s 11ms/step - root_mean_squared_error: 1.1837 - loss: 1.4012 - regularization_loss: 0.0000e+00 - total_loss: 1.4012\n",
            "Epoch 15/50\n",
            "1/1 [==============================] - 0s 11ms/step - root_mean_squared_error: 1.1950 - loss: 1.4280 - regularization_loss: 0.0000e+00 - total_loss: 1.4280\n",
            "Epoch 16/50\n",
            "1/1 [==============================] - 0s 11ms/step - root_mean_squared_error: 1.1936 - loss: 1.4246 - regularization_loss: 0.0000e+00 - total_loss: 1.4246\n",
            "Epoch 17/50\n",
            "1/1 [==============================] - 0s 10ms/step - root_mean_squared_error: 1.2109 - loss: 1.4662 - regularization_loss: 0.0000e+00 - total_loss: 1.4662\n",
            "Epoch 18/50\n",
            "1/1 [==============================] - 0s 12ms/step - root_mean_squared_error: 1.2031 - loss: 1.4475 - regularization_loss: 0.0000e+00 - total_loss: 1.4475\n",
            "Epoch 19/50\n",
            "1/1 [==============================] - 0s 10ms/step - root_mean_squared_error: 1.2251 - loss: 1.5009 - regularization_loss: 0.0000e+00 - total_loss: 1.5009\n",
            "Epoch 20/50\n",
            "1/1 [==============================] - 0s 11ms/step - root_mean_squared_error: 1.2077 - loss: 1.4585 - regularization_loss: 0.0000e+00 - total_loss: 1.4585\n",
            "Epoch 21/50\n",
            "1/1 [==============================] - 0s 11ms/step - root_mean_squared_error: 1.2301 - loss: 1.5131 - regularization_loss: 0.0000e+00 - total_loss: 1.5131\n",
            "Epoch 22/50\n",
            "1/1 [==============================] - 0s 9ms/step - root_mean_squared_error: 1.2044 - loss: 1.4506 - regularization_loss: 0.0000e+00 - total_loss: 1.4506\n",
            "Epoch 23/50\n",
            "1/1 [==============================] - 0s 10ms/step - root_mean_squared_error: 1.2228 - loss: 1.4952 - regularization_loss: 0.0000e+00 - total_loss: 1.4952\n",
            "Epoch 24/50\n",
            "1/1 [==============================] - 0s 10ms/step - root_mean_squared_error: 1.1947 - loss: 1.4274 - regularization_loss: 0.0000e+00 - total_loss: 1.4274\n",
            "Epoch 25/50\n",
            "1/1 [==============================] - 0s 10ms/step - root_mean_squared_error: 1.2072 - loss: 1.4572 - regularization_loss: 0.0000e+00 - total_loss: 1.4572\n",
            "Epoch 26/50\n",
            "1/1 [==============================] - 0s 10ms/step - root_mean_squared_error: 1.1818 - loss: 1.3967 - regularization_loss: 0.0000e+00 - total_loss: 1.3967\n",
            "Epoch 27/50\n",
            "1/1 [==============================] - 0s 10ms/step - root_mean_squared_error: 1.1888 - loss: 1.4133 - regularization_loss: 0.0000e+00 - total_loss: 1.4133\n",
            "Epoch 28/50\n",
            "1/1 [==============================] - 0s 10ms/step - root_mean_squared_error: 1.1682 - loss: 1.3647 - regularization_loss: 0.0000e+00 - total_loss: 1.3647\n",
            "Epoch 29/50\n",
            "1/1 [==============================] - 0s 11ms/step - root_mean_squared_error: 1.1713 - loss: 1.3720 - regularization_loss: 0.0000e+00 - total_loss: 1.3720\n",
            "Epoch 30/50\n",
            "1/1 [==============================] - 0s 10ms/step - root_mean_squared_error: 1.1553 - loss: 1.3347 - regularization_loss: 0.0000e+00 - total_loss: 1.3347\n",
            "Epoch 31/50\n",
            "1/1 [==============================] - 0s 10ms/step - root_mean_squared_error: 1.1559 - loss: 1.3362 - regularization_loss: 0.0000e+00 - total_loss: 1.3362\n",
            "Epoch 32/50\n",
            "1/1 [==============================] - 0s 10ms/step - root_mean_squared_error: 1.1436 - loss: 1.3079 - regularization_loss: 0.0000e+00 - total_loss: 1.3079\n",
            "Epoch 33/50\n",
            "1/1 [==============================] - 0s 9ms/step - root_mean_squared_error: 1.1429 - loss: 1.3062 - regularization_loss: 0.0000e+00 - total_loss: 1.3062\n",
            "Epoch 34/50\n",
            "1/1 [==============================] - 0s 9ms/step - root_mean_squared_error: 1.1334 - loss: 1.2846 - regularization_loss: 0.0000e+00 - total_loss: 1.2846\n",
            "Epoch 35/50\n",
            "1/1 [==============================] - 0s 11ms/step - root_mean_squared_error: 1.1320 - loss: 1.2814 - regularization_loss: 0.0000e+00 - total_loss: 1.2814\n",
            "Epoch 36/50\n",
            "1/1 [==============================] - 0s 10ms/step - root_mean_squared_error: 1.1246 - loss: 1.2648 - regularization_loss: 0.0000e+00 - total_loss: 1.2648\n",
            "Epoch 37/50\n",
            "1/1 [==============================] - 0s 9ms/step - root_mean_squared_error: 1.1230 - loss: 1.2612 - regularization_loss: 0.0000e+00 - total_loss: 1.2612\n",
            "Epoch 38/50\n",
            "1/1 [==============================] - 0s 10ms/step - root_mean_squared_error: 1.1173 - loss: 1.2483 - regularization_loss: 0.0000e+00 - total_loss: 1.2483\n",
            "Epoch 39/50\n",
            "1/1 [==============================] - 0s 11ms/step - root_mean_squared_error: 1.1158 - loss: 1.2449 - regularization_loss: 0.0000e+00 - total_loss: 1.2449\n",
            "Epoch 40/50\n",
            "1/1 [==============================] - 0s 10ms/step - root_mean_squared_error: 1.1112 - loss: 1.2349 - regularization_loss: 0.0000e+00 - total_loss: 1.2349\n",
            "Epoch 41/50\n",
            "1/1 [==============================] - 0s 9ms/step - root_mean_squared_error: 1.1100 - loss: 1.2320 - regularization_loss: 0.0000e+00 - total_loss: 1.2320\n",
            "Epoch 42/50\n",
            "1/1 [==============================] - 0s 10ms/step - root_mean_squared_error: 1.1064 - loss: 1.2242 - regularization_loss: 0.0000e+00 - total_loss: 1.2242\n",
            "Epoch 43/50\n",
            "1/1 [==============================] - 0s 11ms/step - root_mean_squared_error: 1.1054 - loss: 1.2219 - regularization_loss: 0.0000e+00 - total_loss: 1.2219\n",
            "Epoch 44/50\n",
            "1/1 [==============================] - 0s 9ms/step - root_mean_squared_error: 1.1026 - loss: 1.2158 - regularization_loss: 0.0000e+00 - total_loss: 1.2158\n",
            "Epoch 45/50\n",
            "1/1 [==============================] - 0s 10ms/step - root_mean_squared_error: 1.1019 - loss: 1.2141 - regularization_loss: 0.0000e+00 - total_loss: 1.2141\n",
            "Epoch 46/50\n",
            "1/1 [==============================] - 0s 10ms/step - root_mean_squared_error: 1.0996 - loss: 1.2092 - regularization_loss: 0.0000e+00 - total_loss: 1.2092\n",
            "Epoch 47/50\n",
            "1/1 [==============================] - 0s 10ms/step - root_mean_squared_error: 1.0990 - loss: 1.2079 - regularization_loss: 0.0000e+00 - total_loss: 1.2079\n",
            "Epoch 48/50\n",
            "1/1 [==============================] - 0s 11ms/step - root_mean_squared_error: 1.0972 - loss: 1.2039 - regularization_loss: 0.0000e+00 - total_loss: 1.2039\n",
            "Epoch 49/50\n",
            "1/1 [==============================] - 0s 10ms/step - root_mean_squared_error: 1.0968 - loss: 1.2029 - regularization_loss: 0.0000e+00 - total_loss: 1.2029\n",
            "Epoch 50/50\n",
            "1/1 [==============================] - 0s 11ms/step - root_mean_squared_error: 1.0952 - loss: 1.1996 - regularization_loss: 0.0000e+00 - total_loss: 1.1996\n"
          ]
        },
        {
          "data": {
            "text/plain": [
              "<keras.callbacks.History at 0x21f8d7b26b0>"
            ]
          },
          "execution_count": 11,
          "metadata": {},
          "output_type": "execute_result"
        }
      ],
      "source": [
        "model.fit(cached_train, epochs=50)"
      ]
    },
    {
      "attachments": {},
      "cell_type": "markdown",
      "metadata": {
        "id": "YsluR8audV9W"
      },
      "source": [
        "As the model trains, the loss is falling and the RMSE metric is improving."
      ]
    },
    {
      "attachments": {},
      "cell_type": "markdown",
      "metadata": {
        "id": "7Gxp5RLFcv64"
      },
      "source": [
        "Finally, we can evaluate our model on the test set:"
      ]
    },
    {
      "cell_type": "code",
      "execution_count": 12,
      "metadata": {
        "id": "W-zu6HLODNeI"
      },
      "outputs": [
        {
          "name": "stdout",
          "output_type": "stream",
          "text": [
            "2/2 [==============================] - 0s 3ms/step - root_mean_squared_error: 1.1243 - loss: 1.2558 - regularization_loss: 0.0000e+00 - total_loss: 1.2558\n"
          ]
        },
        {
          "data": {
            "text/plain": [
              "{'root_mean_squared_error': 1.1243493556976318,\n",
              " 'loss': 1.2400743961334229,\n",
              " 'regularization_loss': 0,\n",
              " 'total_loss': 1.2400743961334229}"
            ]
          },
          "execution_count": 12,
          "metadata": {},
          "output_type": "execute_result"
        }
      ],
      "source": [
        "model.evaluate(cached_test, return_dict=True)"
      ]
    },
    {
      "attachments": {},
      "cell_type": "markdown",
      "metadata": {
        "id": "JKZyP9A1dxit"
      },
      "source": [
        "The lower the RMSE metric, the more accurate our model is at predicting ratings."
      ]
    },
    {
      "attachments": {},
      "cell_type": "markdown",
      "metadata": {
        "id": "hfedFnhBZiGw"
      },
      "source": [
        "## Exporting for serving\n",
        "\n",
        "The model can be easily exported for serving:\n"
      ]
    },
    {
      "cell_type": "code",
      "execution_count": 13,
      "metadata": {
        "id": "qjLDKn5VZqm8"
      },
      "outputs": [
        {
          "name": "stderr",
          "output_type": "stream",
          "text": [
            "WARNING:absl:Found untraced functions such as ranking_1_layer_call_fn, ranking_1_layer_call_and_return_conditional_losses, _update_step_xla while saving (showing 3 of 3). These functions will not be directly callable after loading.\n"
          ]
        },
        {
          "name": "stdout",
          "output_type": "stream",
          "text": [
            "INFO:tensorflow:Assets written to: exported-ranking/123\\assets\n"
          ]
        },
        {
          "name": "stderr",
          "output_type": "stream",
          "text": [
            "INFO:tensorflow:Assets written to: exported-ranking/123\\assets\n"
          ]
        }
      ],
      "source": [
        "tf.saved_model.save(model, \"exported-ranking/123\")"
      ]
    },
    {
      "attachments": {},
      "cell_type": "markdown",
      "metadata": {
        "id": "gcSUJQQCuSYG"
      },
      "source": [
        "\n",
        "We will deploy the model with TensorFlow Serving soon."
      ]
    },
    {
      "cell_type": "code",
      "execution_count": null,
      "metadata": {
        "id": "LIlXJD-huRHB"
      },
      "outputs": [],
      "source": [
        "# Zip the SavedModel folder for easier download\n",
        "!zip -r exported-ranking.zip exported-ranking/ "
      ]
    }
  ],
  "metadata": {
    "colab": {
      "collapsed_sections": [],
      "name": "ranking.ipynb",
      "private_outputs": true,
      "provenance": []
    },
    "kernelspec": {
      "display_name": "Python 3",
      "language": "python",
      "name": "python3"
    },
    "language_info": {
      "codemirror_mode": {
        "name": "ipython",
        "version": 3
      },
      "file_extension": ".py",
      "mimetype": "text/x-python",
      "name": "python",
      "nbconvert_exporter": "python",
      "pygments_lexer": "ipython3",
      "version": "3.10.11"
    }
  },
  "nbformat": 4,
  "nbformat_minor": 0
}
