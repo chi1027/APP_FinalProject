{
  "cells": [
    {
      "attachments": {},
      "cell_type": "markdown",
      "metadata": {
        "id": "X80i_girFR2o"
      },
      "source": [
        "##### Copyright 2022 The TensorFlow Authors."
      ]
    },
    {
      "cell_type": "code",
      "execution_count": 1,
      "metadata": {
        "id": "bB8gHCR3FVC0"
      },
      "outputs": [],
      "source": [
        "#@title Licensed under the Apache License, Version 2.0 (the \"License\");\n",
        "# you may not use this file except in compliance with the License.\n",
        "# You may obtain a copy of the License at\n",
        "#\n",
        "# https://www.apache.org/licenses/LICENSE-2.0\n",
        "#\n",
        "# Unless required by applicable law or agreed to in writing, software\n",
        "# distributed under the License is distributed on an \"AS IS\" BASIS,\n",
        "# WITHOUT WARRANTIES OR CONDITIONS OF ANY KIND, either express or implied.\n",
        "# See the License for the specific language governing permissions and\n",
        "# limitations under the License."
      ]
    },
    {
      "attachments": {},
      "cell_type": "markdown",
      "metadata": {
        "id": "Z17OmgavQfp4"
      },
      "source": [
        "# Recommending movies: retrieval\n",
        "\n",
        "This tutorial is a slightly adapted version of the [basic retrieval tutorial](https://www.tensorflow.org/recommenders/examples/basic_retrieval#fitting_and_evaluating) from TensorFlow Recommenders documentation."
      ]
    },
    {
      "attachments": {},
      "cell_type": "markdown",
      "metadata": {
        "id": "sawo1x8kQk9b"
      },
      "source": [
        "## Imports\n",
        "\n",
        "\n",
        "Let's first get our imports out of the way."
      ]
    },
    {
      "cell_type": "code",
      "execution_count": null,
      "metadata": {
        "id": "SZGYDaF-m5wZ"
      },
      "outputs": [],
      "source": [
        "import datetime\n",
        "import os\n",
        "import pprint\n",
        "import tempfile\n",
        "\n",
        "from typing import Dict, Text\n",
        "\n",
        "import numpy as np\n",
        "import pandas as pd\n",
        "import tensorflow as tf\n",
        "import tensorflow_datasets as tfds\n",
        "import tensorflow_recommenders as tfrs"
      ]
    },
    {
      "attachments": {},
      "cell_type": "markdown",
      "metadata": {
        "id": "5PAqjR4a1RR4"
      },
      "source": [
        "## Preparing the dataset"
      ]
    },
    {
      "cell_type": "code",
      "execution_count": 3,
      "metadata": {
        "id": "aaQhqcLGP0jL"
      },
      "outputs": [],
      "source": [
        "# Ratings data.\n",
        "df = pd.read_csv(\"../data/users.csv\", sep=\",\", encoding='utf-8')\n",
        "df.id = df.id.astype(str)\n",
        "ratings = tf.data.Dataset.from_tensor_slices(dict(df))\n",
        "# Features of all the available movies.\n",
        "df = pd.read_csv(\"../data/stores.csv\", sep=\",\", encoding='utf-8')\n",
        "stores = tf.data.Dataset.from_tensor_slices(dict(df))\n",
        "# Keep only 'movie_title' and 'user_id'\n",
        "ratings = ratings.map(lambda x: {\n",
        "    \"store\": x[\"store_name\"],\n",
        "    \"user_id\": x[\"id\"],\n",
        "})\n",
        "stores = stores.map(lambda x: x[\"name\"])"
      ]
    },
    {
      "attachments": {},
      "cell_type": "markdown",
      "metadata": {
        "id": "Iu4XSa_G1nyN"
      },
      "source": [
        "Let's use a random split, putting 80% of the ratings in the train set, and 20% in the test set."
      ]
    },
    {
      "cell_type": "code",
      "execution_count": 4,
      "metadata": {
        "id": "rS0eDfkjnjJL"
      },
      "outputs": [],
      "source": [
        "tf.random.set_seed(42)\n",
        "shuffled = ratings.shuffle(10_000, seed=42, reshuffle_each_iteration=False)\n",
        "\n",
        "train = shuffled.take(8_000)\n",
        "test = shuffled.skip(8_000).take(2_000)"
      ]
    },
    {
      "attachments": {},
      "cell_type": "markdown",
      "metadata": {
        "id": "gVi1HJfR9D7H"
      },
      "source": [
        "Next we figure out unique user ids and movie titles present in the data so that we can create the embedding user and movie embedding tables."
      ]
    },
    {
      "cell_type": "code",
      "execution_count": 5,
      "metadata": {
        "id": "MKROCiPo_5LJ"
      },
      "outputs": [],
      "source": [
        "movie_titles = stores.batch(1_000)\n",
        "user_ids = ratings.batch(10_000).map(lambda x: x[\"user_id\"])\n",
        "\n",
        "unique_movie_titles = np.unique(np.concatenate(list(movie_titles)))\n",
        "unique_user_ids = np.unique(np.concatenate(list(user_ids)))"
      ]
    },
    {
      "attachments": {},
      "cell_type": "markdown",
      "metadata": {
        "id": "eCi-seR86qqa"
      },
      "source": [
        "## Implementing a retrieval model\n",
        "\n",
        "We are going to building a two-tower retrieval model by building each tower separately and then combining them in the final model."
      ]
    },
    {
      "attachments": {},
      "cell_type": "markdown",
      "metadata": {
        "id": "z20PyfSXP3Um"
      },
      "source": [
        "### The query tower\n",
        "\n",
        "The first step is to decide on the dimensionality of the query and candidate representations:"
      ]
    },
    {
      "cell_type": "code",
      "execution_count": 6,
      "metadata": {
        "id": "QbIy1FP8aCTq"
      },
      "outputs": [],
      "source": [
        "embedding_dimension = 32"
      ]
    },
    {
      "attachments": {},
      "cell_type": "markdown",
      "metadata": {
        "id": "IJYwjpLRaEzj"
      },
      "source": [
        "\n",
        "The second is to define the model itself. "
      ]
    },
    {
      "cell_type": "code",
      "execution_count": 7,
      "metadata": {
        "id": "kHQZJEhXP93N"
      },
      "outputs": [],
      "source": [
        "user_model = tf.keras.Sequential([\n",
        "  tf.keras.layers.StringLookup(\n",
        "      vocabulary=unique_user_ids, mask_token=None),\n",
        "  # We add an additional embedding to account for unknown tokens.\n",
        "  tf.keras.layers.Embedding(len(unique_user_ids) + 1, embedding_dimension)\n",
        "])"
      ]
    },
    {
      "attachments": {},
      "cell_type": "markdown",
      "metadata": {
        "id": "dG4YFy9SQ08d"
      },
      "source": [
        "### The candidate tower\n",
        "\n",
        "We can do the same with the candidate tower."
      ]
    },
    {
      "cell_type": "code",
      "execution_count": 8,
      "metadata": {
        "id": "qNUwfIJTQ332"
      },
      "outputs": [],
      "source": [
        "movie_model = tf.keras.Sequential([\n",
        "  tf.keras.layers.StringLookup(\n",
        "      vocabulary=unique_movie_titles, mask_token=None),\n",
        "  tf.keras.layers.Embedding(len(unique_movie_titles) + 1, embedding_dimension)\n",
        "])"
      ]
    },
    {
      "attachments": {},
      "cell_type": "markdown",
      "metadata": {
        "id": "r10RiPtqVIAl"
      },
      "source": [
        "### Metrics\n",
        "\n",
        "We use the `tfrs.metrics.FactorizedTopK` metric for our retrieval model."
      ]
    },
    {
      "cell_type": "code",
      "execution_count": 9,
      "metadata": {
        "id": "1dLDL6pZVPO8"
      },
      "outputs": [],
      "source": [
        "metrics = tfrs.metrics.FactorizedTopK(\n",
        "  candidates=stores.batch(128).map(movie_model)\n",
        ")"
      ]
    },
    {
      "attachments": {},
      "cell_type": "markdown",
      "metadata": {
        "id": "nCaCqJsXSkCo"
      },
      "source": [
        "### Loss\n",
        "\n",
        "The next component is the loss used to train our model. We'll make use of the `Retrieval` task object: a convenience wrapper that bundles together the loss function and metric computation:"
      ]
    },
    {
      "cell_type": "code",
      "execution_count": 10,
      "metadata": {
        "id": "tJ61Iz2QTBw3"
      },
      "outputs": [],
      "source": [
        "task = tfrs.tasks.Retrieval(\n",
        "  metrics=metrics\n",
        ")"
      ]
    },
    {
      "attachments": {},
      "cell_type": "markdown",
      "metadata": {
        "id": "FZUFeSlWRHGx"
      },
      "source": [
        "### The full model\n",
        "\n",
        "We can now put it all together into a model."
      ]
    },
    {
      "cell_type": "code",
      "execution_count": 11,
      "metadata": {
        "id": "8n7c5CHFp0ow"
      },
      "outputs": [],
      "source": [
        "class MovielensModel(tfrs.Model):\n",
        "\n",
        "  def __init__(self, user_model, movie_model):\n",
        "    super().__init__()\n",
        "    self.movie_model: tf.keras.Model = movie_model\n",
        "    self.user_model: tf.keras.Model = user_model\n",
        "    self.task: tf.keras.layers.Layer = task\n",
        "\n",
        "  def compute_loss(self, features: Dict[Text, tf.Tensor], training=False) -> tf.Tensor:\n",
        "    # We pick out the user features and pass them into the user model.\n",
        "    user_embeddings = self.user_model(features[\"user_id\"])\n",
        "    # And pick out the movie features and pass them into the movie model,\n",
        "    # getting embeddings back.\n",
        "    positive_movie_embeddings = self.movie_model(features[\"store\"])\n",
        "\n",
        "    # The task computes the loss and the metrics.\n",
        "    return self.task(user_embeddings, positive_movie_embeddings)"
      ]
    },
    {
      "attachments": {},
      "cell_type": "markdown",
      "metadata": {
        "id": "yDN_LJGlnRGo"
      },
      "source": [
        "## Fitting and evaluating\n",
        "\n",
        "Let's instantiate the model now."
      ]
    },
    {
      "cell_type": "code",
      "execution_count": 12,
      "metadata": {
        "id": "aW63YaqP2wCf"
      },
      "outputs": [],
      "source": [
        "model = MovielensModel(user_model, movie_model)\n",
        "model.compile(optimizer=tf.keras.optimizers.Adagrad(learning_rate=0.1))"
      ]
    },
    {
      "attachments": {},
      "cell_type": "markdown",
      "metadata": {
        "id": "Nma0vc2XdN5g"
      },
      "source": [
        "Then shuffle, batch, and cache the training and evaluation data."
      ]
    },
    {
      "cell_type": "code",
      "execution_count": 13,
      "metadata": {
        "id": "53QJwY1gUnfv"
      },
      "outputs": [],
      "source": [
        "cached_train = train.shuffle(100_000).batch(8192).cache()\n",
        "cached_test = test.batch(4096).cache()"
      ]
    },
    {
      "attachments": {},
      "cell_type": "markdown",
      "metadata": {
        "id": "u8mHTxKAdTJO"
      },
      "source": [
        "Then train the  model:"
      ]
    },
    {
      "cell_type": "code",
      "execution_count": 14,
      "metadata": {
        "id": "s1gtu9wKuWvi"
      },
      "outputs": [
        {
          "name": "stdout",
          "output_type": "stream",
          "text": [
            "Epoch 1/20\n",
            "1/1 [==============================] - 1s 1s/step - factorized_top_k/top_1_categorical_accuracy: 0.0071 - factorized_top_k/top_5_categorical_accuracy: 0.0469 - factorized_top_k/top_10_categorical_accuracy: 0.0960 - factorized_top_k/top_50_categorical_accuracy: 0.4950 - factorized_top_k/top_100_categorical_accuracy: 0.9962 - loss: 71898.0234 - regularization_loss: 0.0000e+00 - total_loss: 71898.0234\n",
            "Epoch 2/20\n",
            "1/1 [==============================] - 0s 235ms/step - factorized_top_k/top_1_categorical_accuracy: 0.0441 - factorized_top_k/top_5_categorical_accuracy: 0.2076 - factorized_top_k/top_10_categorical_accuracy: 0.3439 - factorized_top_k/top_50_categorical_accuracy: 0.8230 - factorized_top_k/top_100_categorical_accuracy: 1.0000 - loss: 71801.1719 - regularization_loss: 0.0000e+00 - total_loss: 71801.1719\n",
            "Epoch 3/20\n",
            "1/1 [==============================] - 0s 234ms/step - factorized_top_k/top_1_categorical_accuracy: 0.0916 - factorized_top_k/top_5_categorical_accuracy: 0.4123 - factorized_top_k/top_10_categorical_accuracy: 0.6000 - factorized_top_k/top_50_categorical_accuracy: 0.9517 - factorized_top_k/top_100_categorical_accuracy: 1.0000 - loss: 71251.3750 - regularization_loss: 0.0000e+00 - total_loss: 71251.3750\n",
            "Epoch 4/20\n",
            "1/1 [==============================] - 0s 221ms/step - factorized_top_k/top_1_categorical_accuracy: 0.0920 - factorized_top_k/top_5_categorical_accuracy: 0.4504 - factorized_top_k/top_10_categorical_accuracy: 0.6479 - factorized_top_k/top_50_categorical_accuracy: 0.9665 - factorized_top_k/top_100_categorical_accuracy: 1.0000 - loss: 69943.5625 - regularization_loss: 0.0000e+00 - total_loss: 69943.5625\n",
            "Epoch 5/20\n",
            "1/1 [==============================] - 0s 231ms/step - factorized_top_k/top_1_categorical_accuracy: 0.0978 - factorized_top_k/top_5_categorical_accuracy: 0.4593 - factorized_top_k/top_10_categorical_accuracy: 0.6590 - factorized_top_k/top_50_categorical_accuracy: 0.9701 - factorized_top_k/top_100_categorical_accuracy: 1.0000 - loss: 68049.2812 - regularization_loss: 0.0000e+00 - total_loss: 68049.2812\n",
            "Epoch 6/20\n",
            "1/1 [==============================] - 0s 210ms/step - factorized_top_k/top_1_categorical_accuracy: 0.1001 - factorized_top_k/top_5_categorical_accuracy: 0.4666 - factorized_top_k/top_10_categorical_accuracy: 0.6722 - factorized_top_k/top_50_categorical_accuracy: 0.9740 - factorized_top_k/top_100_categorical_accuracy: 1.0000 - loss: 65998.3281 - regularization_loss: 0.0000e+00 - total_loss: 65998.3281\n",
            "Epoch 7/20\n",
            "1/1 [==============================] - 0s 229ms/step - factorized_top_k/top_1_categorical_accuracy: 0.1024 - factorized_top_k/top_5_categorical_accuracy: 0.4837 - factorized_top_k/top_10_categorical_accuracy: 0.6935 - factorized_top_k/top_50_categorical_accuracy: 0.9790 - factorized_top_k/top_100_categorical_accuracy: 1.0000 - loss: 64144.5859 - regularization_loss: 0.0000e+00 - total_loss: 64144.5859\n",
            "Epoch 8/20\n",
            "1/1 [==============================] - 0s 226ms/step - factorized_top_k/top_1_categorical_accuracy: 0.1028 - factorized_top_k/top_5_categorical_accuracy: 0.4989 - factorized_top_k/top_10_categorical_accuracy: 0.7228 - factorized_top_k/top_50_categorical_accuracy: 0.9851 - factorized_top_k/top_100_categorical_accuracy: 1.0000 - loss: 62611.9844 - regularization_loss: 0.0000e+00 - total_loss: 62611.9844\n",
            "Epoch 9/20\n",
            "1/1 [==============================] - 0s 234ms/step - factorized_top_k/top_1_categorical_accuracy: 0.1026 - factorized_top_k/top_5_categorical_accuracy: 0.5197 - factorized_top_k/top_10_categorical_accuracy: 0.7550 - factorized_top_k/top_50_categorical_accuracy: 0.9891 - factorized_top_k/top_100_categorical_accuracy: 1.0000 - loss: 61363.4961 - regularization_loss: 0.0000e+00 - total_loss: 61363.4961\n",
            "Epoch 10/20\n",
            "1/1 [==============================] - 0s 210ms/step - factorized_top_k/top_1_categorical_accuracy: 0.0999 - factorized_top_k/top_5_categorical_accuracy: 0.5426 - factorized_top_k/top_10_categorical_accuracy: 0.7820 - factorized_top_k/top_50_categorical_accuracy: 0.9918 - factorized_top_k/top_100_categorical_accuracy: 1.0000 - loss: 60333.0547 - regularization_loss: 0.0000e+00 - total_loss: 60333.0547\n",
            "Epoch 11/20\n",
            "1/1 [==============================] - 0s 226ms/step - factorized_top_k/top_1_categorical_accuracy: 0.1047 - factorized_top_k/top_5_categorical_accuracy: 0.5579 - factorized_top_k/top_10_categorical_accuracy: 0.8039 - factorized_top_k/top_50_categorical_accuracy: 0.9939 - factorized_top_k/top_100_categorical_accuracy: 1.0000 - loss: 59470.2812 - regularization_loss: 0.0000e+00 - total_loss: 59470.2812\n",
            "Epoch 12/20\n",
            "1/1 [==============================] - 0s 235ms/step - factorized_top_k/top_1_categorical_accuracy: 0.1025 - factorized_top_k/top_5_categorical_accuracy: 0.5707 - factorized_top_k/top_10_categorical_accuracy: 0.8239 - factorized_top_k/top_50_categorical_accuracy: 0.9959 - factorized_top_k/top_100_categorical_accuracy: 1.0000 - loss: 58739.5898 - regularization_loss: 0.0000e+00 - total_loss: 58739.5898\n",
            "Epoch 13/20\n",
            "1/1 [==============================] - 0s 232ms/step - factorized_top_k/top_1_categorical_accuracy: 0.1030 - factorized_top_k/top_5_categorical_accuracy: 0.5754 - factorized_top_k/top_10_categorical_accuracy: 0.8436 - factorized_top_k/top_50_categorical_accuracy: 0.9967 - factorized_top_k/top_100_categorical_accuracy: 1.0000 - loss: 58114.7812 - regularization_loss: 0.0000e+00 - total_loss: 58114.7812\n",
            "Epoch 14/20\n",
            "1/1 [==============================] - 0s 216ms/step - factorized_top_k/top_1_categorical_accuracy: 0.1029 - factorized_top_k/top_5_categorical_accuracy: 0.5821 - factorized_top_k/top_10_categorical_accuracy: 0.8571 - factorized_top_k/top_50_categorical_accuracy: 0.9975 - factorized_top_k/top_100_categorical_accuracy: 1.0000 - loss: 57576.0625 - regularization_loss: 0.0000e+00 - total_loss: 57576.0625\n",
            "Epoch 15/20\n",
            "1/1 [==============================] - 0s 224ms/step - factorized_top_k/top_1_categorical_accuracy: 0.1044 - factorized_top_k/top_5_categorical_accuracy: 0.5839 - factorized_top_k/top_10_categorical_accuracy: 0.8694 - factorized_top_k/top_50_categorical_accuracy: 0.9981 - factorized_top_k/top_100_categorical_accuracy: 1.0000 - loss: 57108.2539 - regularization_loss: 0.0000e+00 - total_loss: 57108.2539\n",
            "Epoch 16/20\n",
            "1/1 [==============================] - 0s 227ms/step - factorized_top_k/top_1_categorical_accuracy: 0.1051 - factorized_top_k/top_5_categorical_accuracy: 0.5904 - factorized_top_k/top_10_categorical_accuracy: 0.8792 - factorized_top_k/top_50_categorical_accuracy: 0.9985 - factorized_top_k/top_100_categorical_accuracy: 1.0000 - loss: 56699.5508 - regularization_loss: 0.0000e+00 - total_loss: 56699.5508\n",
            "Epoch 17/20\n",
            "1/1 [==============================] - 0s 232ms/step - factorized_top_k/top_1_categorical_accuracy: 0.1074 - factorized_top_k/top_5_categorical_accuracy: 0.5907 - factorized_top_k/top_10_categorical_accuracy: 0.8915 - factorized_top_k/top_50_categorical_accuracy: 0.9992 - factorized_top_k/top_100_categorical_accuracy: 1.0000 - loss: 56340.7734 - regularization_loss: 0.0000e+00 - total_loss: 56340.7734\n",
            "Epoch 18/20\n",
            "1/1 [==============================] - 0s 231ms/step - factorized_top_k/top_1_categorical_accuracy: 0.1071 - factorized_top_k/top_5_categorical_accuracy: 0.5979 - factorized_top_k/top_10_categorical_accuracy: 0.8986 - factorized_top_k/top_50_categorical_accuracy: 0.9992 - factorized_top_k/top_100_categorical_accuracy: 1.0000 - loss: 56025.1328 - regularization_loss: 0.0000e+00 - total_loss: 56025.1328\n",
            "Epoch 19/20\n",
            "1/1 [==============================] - 0s 219ms/step - factorized_top_k/top_1_categorical_accuracy: 0.1091 - factorized_top_k/top_5_categorical_accuracy: 0.5968 - factorized_top_k/top_10_categorical_accuracy: 0.9070 - factorized_top_k/top_50_categorical_accuracy: 0.9996 - factorized_top_k/top_100_categorical_accuracy: 1.0000 - loss: 55747.0234 - regularization_loss: 0.0000e+00 - total_loss: 55747.0234\n",
            "Epoch 20/20\n",
            "1/1 [==============================] - 0s 223ms/step - factorized_top_k/top_1_categorical_accuracy: 0.1075 - factorized_top_k/top_5_categorical_accuracy: 0.5996 - factorized_top_k/top_10_categorical_accuracy: 0.9111 - factorized_top_k/top_50_categorical_accuracy: 0.9996 - factorized_top_k/top_100_categorical_accuracy: 1.0000 - loss: 55503.5234 - regularization_loss: 0.0000e+00 - total_loss: 55503.5234\n"
          ]
        },
        {
          "data": {
            "text/plain": [
              "<keras.callbacks.History at 0x1c1bb7fb130>"
            ]
          },
          "execution_count": 14,
          "metadata": {},
          "output_type": "execute_result"
        }
      ],
      "source": [
        "model.fit(cached_train, epochs=20)"
      ]
    },
    {
      "attachments": {},
      "cell_type": "markdown",
      "metadata": {
        "id": "7Gxp5RLFcv64"
      },
      "source": [
        "Finally, we can evaluate our model on the test set:"
      ]
    },
    {
      "cell_type": "code",
      "execution_count": 15,
      "metadata": {
        "id": "W-zu6HLODNeI"
      },
      "outputs": [
        {
          "name": "stdout",
          "output_type": "stream",
          "text": [
            "1/1 [==============================] - 0s 255ms/step - factorized_top_k/top_1_categorical_accuracy: 0.0050 - factorized_top_k/top_5_categorical_accuracy: 0.0465 - factorized_top_k/top_10_categorical_accuracy: 0.0940 - factorized_top_k/top_50_categorical_accuracy: 0.5085 - factorized_top_k/top_100_categorical_accuracy: 0.9955 - loss: 19558.6641 - regularization_loss: 0.0000e+00 - total_loss: 19558.6641\n"
          ]
        },
        {
          "data": {
            "text/plain": [
              "{'factorized_top_k/top_1_categorical_accuracy': 0.004999999888241291,\n",
              " 'factorized_top_k/top_5_categorical_accuracy': 0.04650000110268593,\n",
              " 'factorized_top_k/top_10_categorical_accuracy': 0.09399999678134918,\n",
              " 'factorized_top_k/top_50_categorical_accuracy': 0.5084999799728394,\n",
              " 'factorized_top_k/top_100_categorical_accuracy': 0.9955000281333923,\n",
              " 'loss': 19558.6640625,\n",
              " 'regularization_loss': 0,\n",
              " 'total_loss': 19558.6640625}"
            ]
          },
          "execution_count": 15,
          "metadata": {},
          "output_type": "execute_result"
        }
      ],
      "source": [
        "model.evaluate(cached_test, return_dict=True)"
      ]
    },
    {
      "attachments": {},
      "cell_type": "markdown",
      "metadata": {
        "id": "NB2v43NJU3Xf"
      },
      "source": [
        "## Making predictions\n",
        "\n",
        "Now that we have a model, we would like to be able to make predictions. We can use the `tfrs.layers.factorized_top_k.BruteForce` layer to do this."
      ]
    },
    {
      "cell_type": "code",
      "execution_count": 16,
      "metadata": {
        "id": "IRD6bEtZW_8j"
      },
      "outputs": [
        {
          "name": "stdout",
          "output_type": "stream",
          "text": [
            "Recommendations for user 42: [b'\\xe5\\xae\\xb6\\xe5\\xae\\x9c\\xe5\\xae\\xb6\\xe5\\xb1\\x85\\xef\\xbc\\x88KIEA\\xef\\xbc\\x89_\\xe5\\x95\\xa4\\xe9\\x85\\x92\\xe8\\xb6\\x85\\xe5\\xb8\\x82'\n",
            " b'\\xe7\\xbe\\x8e\\xe5\\xa5\\xa7\\xe5\\xbb\\xa3\\xe5\\x91\\x8a_\\xe5\\xb0\\x8f\\xe5\\xb7\\xb7\\xe8\\xa3\\xa1\\xe7\\x9a\\x84\\xe6\\x8b\\xbe\\xe5\\xa3\\xb9\\xe8\\x99\\x9f'\n",
            " b'\\xe5\\xbf\\x83\\xe5\\xae\\x89\\xe9\\xa3\\x9f\\xe5\\x93\\x81\\xe6\\x9c\\x8d\\xe5\\x8b\\x99\\xef\\xbc\\x88\\xe6\\x96\\xaf\\xe6\\x91\\xa9\\xe6\\xbc\\xa2\\xe5\\xa0\\xa1\\xef\\xbc\\x89_\\xe8\\x80\\x81\\xe8\\xb3\\xb4\\xe8\\x8c\\xb6\\xe6\\xa3\\xa7\\xe5\\x8f\\xb0\\xe5\\x8d\\x97\\xe6\\x96\\x87\\xe8\\xb3\\xa2\\xe5\\xba\\x97']\n"
          ]
        }
      ],
      "source": [
        "# Create a model that takes in raw query features, and\n",
        "index = tfrs.layers.factorized_top_k.BruteForce(model.user_model)\n",
        "# recommends movies out of the entire movies dataset.\n",
        "index.index_from_dataset(\n",
        "  tf.data.Dataset.zip((stores.batch(100), stores.batch(100).map(model.movie_model)))\n",
        ")\n",
        "\n",
        "# Get recommendations.\n",
        "_, titles = index(tf.constant([\"42\"]))\n",
        "print(f\"Recommendations for user 42: {titles[0, :3]}\")"
      ]
    },
    {
      "attachments": {},
      "cell_type": "markdown",
      "metadata": {
        "id": "LzM2AQwanz62"
      },
      "source": [
        "If you want to leverage ANN techniques to speed up predictions, please check out the [Efficient serving](https://www.tensorflow.org/recommenders/examples/efficient_serving) tutorial."
      ]
    },
    {
      "attachments": {},
      "cell_type": "markdown",
      "metadata": {
        "id": "NmhfltdpWZ06"
      },
      "source": [
        "## Exporting the model\n",
        "\n",
        "We simply export the `BruteForce` layer we created above:"
      ]
    },
    {
      "cell_type": "code",
      "execution_count": 17,
      "metadata": {
        "id": "oJkRNBfCW5_E"
      },
      "outputs": [
        {
          "name": "stdout",
          "output_type": "stream",
          "text": [
            "WARNING:tensorflow:Model's `__init__()` arguments contain non-serializable objects. Please implement a `get_config()` method in the subclassed Model for proper saving and loading. Defaulting to empty config.\n",
            "WARNING:tensorflow:Model's `__init__()` arguments contain non-serializable objects. Please implement a `get_config()` method in the subclassed Model for proper saving and loading. Defaulting to empty config.\n"
          ]
        },
        {
          "name": "stderr",
          "output_type": "stream",
          "text": [
            "WARNING:absl:Found untraced functions such as query_with_exclusions while saving (showing 1 of 1). These functions will not be directly callable after loading.\n"
          ]
        },
        {
          "name": "stdout",
          "output_type": "stream",
          "text": [
            "INFO:tensorflow:Assets written to: exported-retrieval/123\\assets\n"
          ]
        },
        {
          "name": "stderr",
          "output_type": "stream",
          "text": [
            "INFO:tensorflow:Assets written to: exported-retrieval/123\\assets\n"
          ]
        }
      ],
      "source": [
        "# Export the query model.\n",
        "tf.saved_model.save(index, \"exported-retrieval/123\")"
      ]
    },
    {
      "attachments": {},
      "cell_type": "markdown",
      "metadata": {
        "id": "jT5OfFXKm0LH"
      },
      "source": [
        "We will deploy the model with TensorFlow Serving soon."
      ]
    },
    {
      "cell_type": "code",
      "execution_count": null,
      "metadata": {
        "id": "hTGQy9_upSRI"
      },
      "outputs": [],
      "source": [
        "# Zip the SavedModel folder for easier download\n",
        "!zip -r exported-retrieval.zip exported-retrieval/ "
      ]
    }
  ],
  "metadata": {
    "colab": {
      "collapsed_sections": [],
      "name": "retrieval.ipynb",
      "private_outputs": true,
      "provenance": []
    },
    "kernelspec": {
      "display_name": "Python 3",
      "language": "python",
      "name": "python3"
    },
    "language_info": {
      "codemirror_mode": {
        "name": "ipython",
        "version": 3
      },
      "file_extension": ".py",
      "mimetype": "text/x-python",
      "name": "python",
      "nbconvert_exporter": "python",
      "pygments_lexer": "ipython3",
      "version": "3.10.11"
    }
  },
  "nbformat": 4,
  "nbformat_minor": 0
}
